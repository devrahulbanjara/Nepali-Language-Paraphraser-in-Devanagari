{
 "cells": [
  {
   "cell_type": "code",
   "execution_count": null,
   "id": "d2b58666",
   "metadata": {},
   "outputs": [],
   "source": [
    "# !pip install googletrans==4.0.0-rc1"
   ]
  },
  {
   "cell_type": "code",
   "execution_count": null,
   "id": "47651f19",
   "metadata": {},
   "outputs": [],
   "source": [
    "from googletrans import Translator\n",
    "translator = Translator()"
   ]
  },
  {
   "cell_type": "code",
   "execution_count": 10,
   "id": "3af978e9",
   "metadata": {},
   "outputs": [
    {
     "name": "stdout",
     "output_type": "stream",
     "text": [
      "तिम्रो नाम के हो?\n",
      "What is your name?\n"
     ]
    }
   ],
   "source": [
    "nepali = translator.translate(\"What is your name?\", src='en', dest='ne')\n",
    "print(nepali.text)\n",
    "\n",
    "english = translator.translate(\"तपाईंको नाम के हो?\", src='ne', dest='en')\n",
    "print(english.text)\n"
   ]
  },
  {
   "cell_type": "code",
   "execution_count": 11,
   "id": "3d8c0ed9",
   "metadata": {},
   "outputs": [
    {
     "name": "stdout",
     "output_type": "stream",
     "text": [
      "['तिमीलाई कस्तो छ?', 'तिमी कहाँ बस्छौ?', 'तिमी के गर्छौ?']\n",
      "['How are you', 'Where do you live?', 'What do you do']\n"
     ]
    }
   ],
   "source": [
    "english_sentences = [\"How are you?\", \"Where do you live?\", \"What do you do?\"]\n",
    "translated_to_nepali = [translator.translate(s, src='en', dest='ne').text for s in english_sentences]\n",
    "print(translated_to_nepali)\n",
    "\n",
    "nepali_sentences = [\"तपाईंलाई कस्तो छ?\", \"तपाईं कहाँ बस्नुहुन्छ?\", \"तपाईं के गर्नुहुन्छ?\"]\n",
    "translated_to_english = [translator.translate(s, src='ne', dest='en').text for s in nepali_sentences]\n",
    "print(translated_to_english)"
   ]
  },
  {
   "cell_type": "code",
   "execution_count": null,
   "id": "13f30618",
   "metadata": {},
   "outputs": [],
   "source": []
  }
 ],
 "metadata": {
  "kernelspec": {
   "display_name": "nepal",
   "language": "python",
   "name": "python3"
  },
  "language_info": {
   "codemirror_mode": {
    "name": "ipython",
    "version": 3
   },
   "file_extension": ".py",
   "mimetype": "text/x-python",
   "name": "python",
   "nbconvert_exporter": "python",
   "pygments_lexer": "ipython3",
   "version": "3.10.0"
  }
 },
 "nbformat": 4,
 "nbformat_minor": 5
}
